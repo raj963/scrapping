{
  "nbformat": 4,
  "nbformat_minor": 0,
  "metadata": {
    "colab": {
      "name": "webScrapping.ipynb",
      "provenance": [],
      "include_colab_link": true
    },
    "kernelspec": {
      "name": "python3",
      "display_name": "Python 3"
    }
  },
  "cells": [
    {
      "cell_type": "markdown",
      "metadata": {
        "id": "view-in-github",
        "colab_type": "text"
      },
      "source": [
        "<a href=\"https://colab.research.google.com/github/raj963/scrapping/blob/master/webScrapping.ipynb\" target=\"_parent\"><img src=\"https://colab.research.google.com/assets/colab-badge.svg\" alt=\"Open In Colab\"/></a>"
      ]
    },
    {
      "cell_type": "code",
      "metadata": {
        "id": "0PIYHg4aZrUD",
        "colab_type": "code",
        "colab": {}
      },
      "source": [
        "mkdir scrapy_projects"
      ],
      "execution_count": 0,
      "outputs": []
    },
    {
      "cell_type": "code",
      "metadata": {
        "id": "CssGs5zJoRos",
        "colab_type": "code",
        "colab": {}
      },
      "source": [
        ""
      ],
      "execution_count": 0,
      "outputs": []
    },
    {
      "cell_type": "code",
      "metadata": {
        "id": "CBZiKDh3aCa-",
        "colab_type": "code",
        "outputId": "98b38734-518d-4a95-c2bb-f02d77f459ae",
        "colab": {
          "base_uri": "https://localhost:8080/",
          "height": 1000
        }
      },
      "source": [
        "!pip install scrapy"
      ],
      "execution_count": 0,
      "outputs": [
        {
          "output_type": "stream",
          "text": [
            "Collecting scrapy\n",
            "\u001b[?25l  Downloading https://files.pythonhosted.org/packages/3b/e4/69b87d7827abf03dea2ea984230d50f347b00a7a3897bc93f6ec3dafa494/Scrapy-1.8.0-py2.py3-none-any.whl (238kB)\n",
            "\r\u001b[K     |█▍                              | 10kB 18.8MB/s eta 0:00:01\r\u001b[K     |██▊                             | 20kB 3.1MB/s eta 0:00:01\r\u001b[K     |████▏                           | 30kB 3.9MB/s eta 0:00:01\r\u001b[K     |█████▌                          | 40kB 2.9MB/s eta 0:00:01\r\u001b[K     |██████▉                         | 51kB 3.3MB/s eta 0:00:01\r\u001b[K     |████████▎                       | 61kB 3.9MB/s eta 0:00:01\r\u001b[K     |█████████▋                      | 71kB 4.2MB/s eta 0:00:01\r\u001b[K     |███████████                     | 81kB 4.4MB/s eta 0:00:01\r\u001b[K     |████████████▍                   | 92kB 4.9MB/s eta 0:00:01\r\u001b[K     |█████████████▊                  | 102kB 4.7MB/s eta 0:00:01\r\u001b[K     |███████████████                 | 112kB 4.7MB/s eta 0:00:01\r\u001b[K     |████████████████▌               | 122kB 4.7MB/s eta 0:00:01\r\u001b[K     |█████████████████▉              | 133kB 4.7MB/s eta 0:00:01\r\u001b[K     |███████████████████▏            | 143kB 4.7MB/s eta 0:00:01\r\u001b[K     |████████████████████▋           | 153kB 4.7MB/s eta 0:00:01\r\u001b[K     |██████████████████████          | 163kB 4.7MB/s eta 0:00:01\r\u001b[K     |███████████████████████▎        | 174kB 4.7MB/s eta 0:00:01\r\u001b[K     |████████████████████████▊       | 184kB 4.7MB/s eta 0:00:01\r\u001b[K     |██████████████████████████      | 194kB 4.7MB/s eta 0:00:01\r\u001b[K     |███████████████████████████▍    | 204kB 4.7MB/s eta 0:00:01\r\u001b[K     |████████████████████████████▉   | 215kB 4.7MB/s eta 0:00:01\r\u001b[K     |██████████████████████████████▏ | 225kB 4.7MB/s eta 0:00:01\r\u001b[K     |███████████████████████████████▌| 235kB 4.7MB/s eta 0:00:01\r\u001b[K     |████████████████████████████████| 245kB 4.7MB/s \n",
            "\u001b[?25hCollecting queuelib>=1.4.2\n",
            "  Downloading https://files.pythonhosted.org/packages/4c/85/ae64e9145f39dd6d14f8af3fa809a270ef3729f3b90b3c0cf5aa242ab0d4/queuelib-1.5.0-py2.py3-none-any.whl\n",
            "Requirement already satisfied: six>=1.10.0 in /usr/local/lib/python3.6/dist-packages (from scrapy) (1.12.0)\n",
            "Collecting protego>=0.1.15\n",
            "\u001b[?25l  Downloading https://files.pythonhosted.org/packages/db/6e/bf6d5e4d7cf233b785719aaec2c38f027b9c2ed980a0015ec1a1cced4893/Protego-0.1.16.tar.gz (3.2MB)\n",
            "\u001b[K     |████████████████████████████████| 3.2MB 18.5MB/s \n",
            "\u001b[?25hCollecting parsel>=1.5.0\n",
            "  Downloading https://files.pythonhosted.org/packages/86/c8/fc5a2f9376066905dfcca334da2a25842aedfda142c0424722e7c497798b/parsel-1.5.2-py2.py3-none-any.whl\n",
            "Collecting w3lib>=1.17.0\n",
            "  Downloading https://files.pythonhosted.org/packages/6a/45/1ba17c50a0bb16bd950c9c2b92ec60d40c8ebda9f3371ae4230c437120b6/w3lib-1.21.0-py2.py3-none-any.whl\n",
            "Collecting zope.interface>=4.1.3\n",
            "\u001b[?25l  Downloading https://files.pythonhosted.org/packages/05/16/79fe71428c91673194a21fedcc46f7f1349db799bc2a65da4ffdbe570343/zope.interface-4.7.1-cp36-cp36m-manylinux2010_x86_64.whl (168kB)\n",
            "\u001b[K     |████████████████████████████████| 174kB 50.5MB/s \n",
            "\u001b[?25hCollecting Twisted>=17.9.0; python_version >= \"3.5\"\n",
            "\u001b[?25l  Downloading https://files.pythonhosted.org/packages/88/e2/0c21fadf0dff02d145db02f24a6ed2c24993e7242d138babbca41de2f5a2/Twisted-19.10.0-cp36-cp36m-manylinux1_x86_64.whl (3.1MB)\n",
            "\u001b[K     |████████████████████████████████| 3.1MB 52.3MB/s \n",
            "\u001b[?25hCollecting pyOpenSSL>=16.2.0\n",
            "\u001b[?25l  Downloading https://files.pythonhosted.org/packages/9e/de/f8342b68fa9e981d348039954657bdf681b2ab93de27443be51865ffa310/pyOpenSSL-19.1.0-py2.py3-none-any.whl (53kB)\n",
            "\u001b[K     |████████████████████████████████| 61kB 9.1MB/s \n",
            "\u001b[?25hRequirement already satisfied: lxml>=3.5.0 in /usr/local/lib/python3.6/dist-packages (from scrapy) (4.2.6)\n",
            "Collecting cssselect>=0.9.1\n",
            "  Downloading https://files.pythonhosted.org/packages/3b/d4/3b5c17f00cce85b9a1e6f91096e1cc8e8ede2e1be8e96b87ce1ed09e92c5/cssselect-1.1.0-py2.py3-none-any.whl\n",
            "Collecting service-identity>=16.0.0\n",
            "  Downloading https://files.pythonhosted.org/packages/e9/7c/2195b890023e098f9618d43ebc337d83c8b38d414326685339eb024db2f6/service_identity-18.1.0-py2.py3-none-any.whl\n",
            "Collecting PyDispatcher>=2.0.5\n",
            "  Downloading https://files.pythonhosted.org/packages/cd/37/39aca520918ce1935bea9c356bcbb7ed7e52ad4e31bff9b943dfc8e7115b/PyDispatcher-2.0.5.tar.gz\n",
            "Collecting cryptography>=2.0\n",
            "\u001b[?25l  Downloading https://files.pythonhosted.org/packages/ca/9a/7cece52c46546e214e10811b36b2da52ce1ea7fa203203a629b8dfadad53/cryptography-2.8-cp34-abi3-manylinux2010_x86_64.whl (2.3MB)\n",
            "\u001b[K     |████████████████████████████████| 2.3MB 33.5MB/s \n",
            "\u001b[?25hRequirement already satisfied: setuptools in /usr/local/lib/python3.6/dist-packages (from zope.interface>=4.1.3->scrapy) (42.0.2)\n",
            "Collecting constantly>=15.1\n",
            "  Downloading https://files.pythonhosted.org/packages/b9/65/48c1909d0c0aeae6c10213340ce682db01b48ea900a7d9fce7a7910ff318/constantly-15.1.0-py2.py3-none-any.whl\n",
            "Requirement already satisfied: attrs>=17.4.0 in /usr/local/lib/python3.6/dist-packages (from Twisted>=17.9.0; python_version >= \"3.5\"->scrapy) (19.3.0)\n",
            "Collecting hyperlink>=17.1.1\n",
            "  Downloading https://files.pythonhosted.org/packages/7f/91/e916ca10a2de1cb7101a9b24da546fb90ee14629e23160086cf3361c4fb8/hyperlink-19.0.0-py2.py3-none-any.whl\n",
            "Collecting PyHamcrest>=1.9.0\n",
            "\u001b[?25l  Downloading https://files.pythonhosted.org/packages/9a/d5/d37fd731b7d0e91afcc84577edeccf4638b4f9b82f5ffe2f8b62e2ddc609/PyHamcrest-1.9.0-py2.py3-none-any.whl (52kB)\n",
            "\u001b[K     |████████████████████████████████| 61kB 8.7MB/s \n",
            "\u001b[?25hCollecting incremental>=16.10.1\n",
            "  Downloading https://files.pythonhosted.org/packages/f5/1d/c98a587dc06e107115cf4a58b49de20b19222c83d75335a192052af4c4b7/incremental-17.5.0-py2.py3-none-any.whl\n",
            "Collecting Automat>=0.3.0\n",
            "  Downloading https://files.pythonhosted.org/packages/e5/11/756922e977bb296a79ccf38e8d45cafee446733157d59bcd751d3aee57f5/Automat-0.8.0-py2.py3-none-any.whl\n",
            "Requirement already satisfied: pyasn1-modules in /usr/local/lib/python3.6/dist-packages (from service-identity>=16.0.0->scrapy) (0.2.7)\n",
            "Requirement already satisfied: pyasn1 in /usr/local/lib/python3.6/dist-packages (from service-identity>=16.0.0->scrapy) (0.4.8)\n",
            "Requirement already satisfied: cffi!=1.11.3,>=1.8 in /usr/local/lib/python3.6/dist-packages (from cryptography>=2.0->scrapy) (1.13.2)\n",
            "Requirement already satisfied: idna>=2.5 in /usr/local/lib/python3.6/dist-packages (from hyperlink>=17.1.1->Twisted>=17.9.0; python_version >= \"3.5\"->scrapy) (2.8)\n",
            "Requirement already satisfied: pycparser in /usr/local/lib/python3.6/dist-packages (from cffi!=1.11.3,>=1.8->cryptography>=2.0->scrapy) (2.19)\n",
            "Building wheels for collected packages: protego, PyDispatcher\n",
            "  Building wheel for protego (setup.py) ... \u001b[?25l\u001b[?25hdone\n",
            "  Created wheel for protego: filename=Protego-0.1.16-cp36-none-any.whl size=7765 sha256=2e4643deec9ba0d51c7b94b65984904c1655e0010da99746484c653399667f6f\n",
            "  Stored in directory: /root/.cache/pip/wheels/51/01/d1/4a2286a976dccd025ba679acacfe37320540df0f2283ecab12\n",
            "  Building wheel for PyDispatcher (setup.py) ... \u001b[?25l\u001b[?25hdone\n",
            "  Created wheel for PyDispatcher: filename=PyDispatcher-2.0.5-cp36-none-any.whl size=11516 sha256=bc14bb4fd6c6874fe3b321e7b283a2d328eb63a7bc159766f1ce6e5918c3d1a7\n",
            "  Stored in directory: /root/.cache/pip/wheels/88/99/96/cfef6665f9cb1522ee6757ae5955feedf2fe25f1737f91fa7f\n",
            "Successfully built protego PyDispatcher\n",
            "Installing collected packages: queuelib, protego, cssselect, w3lib, parsel, zope.interface, constantly, hyperlink, PyHamcrest, incremental, Automat, Twisted, cryptography, pyOpenSSL, service-identity, PyDispatcher, scrapy\n",
            "Successfully installed Automat-0.8.0 PyDispatcher-2.0.5 PyHamcrest-1.9.0 Twisted-19.10.0 constantly-15.1.0 cryptography-2.8 cssselect-1.1.0 hyperlink-19.0.0 incremental-17.5.0 parsel-1.5.2 protego-0.1.16 pyOpenSSL-19.1.0 queuelib-1.5.0 scrapy-1.8.0 service-identity-18.1.0 w3lib-1.21.0 zope.interface-4.7.1\n"
          ],
          "name": "stdout"
        }
      ]
    },
    {
      "cell_type": "code",
      "metadata": {
        "id": "aBjfq9ghaRmp",
        "colab_type": "code",
        "colab": {}
      },
      "source": [
        "!cd sample_data\n",
        "\n"
      ],
      "execution_count": 0,
      "outputs": []
    },
    {
      "cell_type": "code",
      "metadata": {
        "id": "KRGYhZ9vaeov",
        "colab_type": "code",
        "outputId": "e97ef097-abfa-4ca3-aaf9-1a35f59e92d5",
        "colab": {
          "base_uri": "https://localhost:8080/",
          "height": 34
        }
      },
      "source": [
        "!ls"
      ],
      "execution_count": 0,
      "outputs": [
        {
          "output_type": "stream",
          "text": [
            "sample_data  scrapy_projects\n"
          ],
          "name": "stdout"
        }
      ]
    },
    {
      "cell_type": "code",
      "metadata": {
        "id": "GyRmc84lahv5",
        "colab_type": "code",
        "colab": {}
      },
      "source": [
        "!cd scrapy_projects"
      ],
      "execution_count": 0,
      "outputs": []
    },
    {
      "cell_type": "code",
      "metadata": {
        "id": "aI9Aep3Wase1",
        "colab_type": "code",
        "outputId": "3d1a29ab-7948-4b2e-99a2-5c5c345cd33b",
        "colab": {
          "base_uri": "https://localhost:8080/",
          "height": 34
        }
      },
      "source": [
        "!ls"
      ],
      "execution_count": 0,
      "outputs": [
        {
          "output_type": "stream",
          "text": [
            "sample_data  scrapy_projects\n"
          ],
          "name": "stdout"
        }
      ]
    },
    {
      "cell_type": "code",
      "metadata": {
        "id": "e6oKoEJ-atxW",
        "colab_type": "code",
        "outputId": "65a7e6cf-2718-4644-ca8c-3b977d634873",
        "colab": {
          "base_uri": "https://localhost:8080/",
          "height": 34
        }
      },
      "source": [
        "cd scrapy_projects/"
      ],
      "execution_count": 0,
      "outputs": [
        {
          "output_type": "stream",
          "text": [
            "/content/scrapy_projects\n"
          ],
          "name": "stdout"
        }
      ]
    },
    {
      "cell_type": "code",
      "metadata": {
        "id": "BBs2SdhLbImE",
        "colab_type": "code",
        "colab": {}
      },
      "source": [
        "!ls"
      ],
      "execution_count": 0,
      "outputs": []
    },
    {
      "cell_type": "code",
      "metadata": {
        "id": "SFHL1cDcbKSO",
        "colab_type": "code",
        "colab": {}
      },
      "source": [
        "import scrapy"
      ],
      "execution_count": 0,
      "outputs": []
    },
    {
      "cell_type": "code",
      "metadata": {
        "id": "7syscajhcSQY",
        "colab_type": "code",
        "outputId": "67464022-e315-482e-c5a1-af3e707e654f",
        "colab": {
          "base_uri": "https://localhost:8080/",
          "height": 336
        }
      },
      "source": [
        "!scrapy"
      ],
      "execution_count": 0,
      "outputs": [
        {
          "output_type": "stream",
          "text": [
            "Scrapy 1.8.0 - no active project\n",
            "\n",
            "Usage:\n",
            "  scrapy <command> [options] [args]\n",
            "\n",
            "Available commands:\n",
            "  bench         Run quick benchmark test\n",
            "  fetch         Fetch a URL using the Scrapy downloader\n",
            "  genspider     Generate new spider using pre-defined templates\n",
            "  runspider     Run a self-contained spider (without creating a project)\n",
            "  settings      Get settings values\n",
            "  shell         Interactive scraping console\n",
            "  startproject  Create new project\n",
            "  version       Print Scrapy version\n",
            "  view          Open URL in browser, as seen by Scrapy\n",
            "\n",
            "  [ more ]      More commands available when run from project directory\n",
            "\n",
            "Use \"scrapy <command> -h\" to see more info about a command\n"
          ],
          "name": "stdout"
        }
      ]
    },
    {
      "cell_type": "code",
      "metadata": {
        "id": "cr1pnRUZbaId",
        "colab_type": "code",
        "outputId": "3fbfd5b4-d584-4f94-9231-1dc86e84b846",
        "colab": {
          "base_uri": "https://localhost:8080/",
          "height": 118
        }
      },
      "source": [
        "!scrapy startproject SimpleSpider"
      ],
      "execution_count": 0,
      "outputs": [
        {
          "output_type": "stream",
          "text": [
            "New Scrapy project 'SimpleSpider', using template directory '/usr/local/lib/python3.6/dist-packages/scrapy/templates/project', created in:\n",
            "    /content/scrapy_projects/SimpleSpider\n",
            "\n",
            "You can start your first spider with:\n",
            "    cd SimpleSpider\n",
            "    scrapy genspider example example.com\n"
          ],
          "name": "stdout"
        }
      ]
    },
    {
      "cell_type": "code",
      "metadata": {
        "id": "HydaMFMUbfDz",
        "colab_type": "code",
        "colab": {}
      },
      "source": [
        "!cd SimpleSpider"
      ],
      "execution_count": 0,
      "outputs": []
    },
    {
      "cell_type": "code",
      "metadata": {
        "id": "6sruDYp4c1HY",
        "colab_type": "code",
        "outputId": "ab98fde0-3e95-45ac-c100-f4675ce164e6",
        "colab": {
          "base_uri": "https://localhost:8080/",
          "height": 34
        }
      },
      "source": [
        "!ls"
      ],
      "execution_count": 0,
      "outputs": [
        {
          "output_type": "stream",
          "text": [
            "SimpleSpider\n"
          ],
          "name": "stdout"
        }
      ]
    },
    {
      "cell_type": "code",
      "metadata": {
        "id": "Gv526iMLoVTW",
        "colab_type": "code",
        "colab": {
          "base_uri": "https://localhost:8080/",
          "height": 138
        },
        "outputId": "80e5270d-251f-428c-ab6f-3854e35dc441"
      },
      "source": [
        "!pip install selenium"
      ],
      "execution_count": 8,
      "outputs": [
        {
          "output_type": "stream",
          "text": [
            "Collecting selenium\n",
            "\u001b[?25l  Downloading https://files.pythonhosted.org/packages/80/d6/4294f0b4bce4de0abf13e17190289f9d0613b0a44e5dd6a7f5ca98459853/selenium-3.141.0-py2.py3-none-any.whl (904kB)\n",
            "\r\u001b[K     |▍                               | 10kB 19.7MB/s eta 0:00:01\r\u001b[K     |▊                               | 20kB 5.8MB/s eta 0:00:01\r\u001b[K     |█                               | 30kB 8.2MB/s eta 0:00:01\r\u001b[K     |█▌                              | 40kB 5.5MB/s eta 0:00:01\r\u001b[K     |█▉                              | 51kB 6.7MB/s eta 0:00:01\r\u001b[K     |██▏                             | 61kB 8.0MB/s eta 0:00:01\r\u001b[K     |██▌                             | 71kB 9.1MB/s eta 0:00:01\r\u001b[K     |███                             | 81kB 10.1MB/s eta 0:00:01\r\u001b[K     |███▎                            | 92kB 11.2MB/s eta 0:00:01\r\u001b[K     |███▋                            | 102kB 9.0MB/s eta 0:00:01\r\u001b[K     |████                            | 112kB 9.0MB/s eta 0:00:01\r\u001b[K     |████▍                           | 122kB 9.0MB/s eta 0:00:01\r\u001b[K     |████▊                           | 133kB 9.0MB/s eta 0:00:01\r\u001b[K     |█████                           | 143kB 9.0MB/s eta 0:00:01\r\u001b[K     |█████▍                          | 153kB 9.0MB/s eta 0:00:01\r\u001b[K     |█████▉                          | 163kB 9.0MB/s eta 0:00:01\r\u001b[K     |██████▏                         | 174kB 9.0MB/s eta 0:00:01\r\u001b[K     |██████▌                         | 184kB 9.0MB/s eta 0:00:01\r\u001b[K     |██████▉                         | 194kB 9.0MB/s eta 0:00:01\r\u001b[K     |███████▎                        | 204kB 9.0MB/s eta 0:00:01\r\u001b[K     |███████▋                        | 215kB 9.0MB/s eta 0:00:01\r\u001b[K     |████████                        | 225kB 9.0MB/s eta 0:00:01\r\u001b[K     |████████▎                       | 235kB 9.0MB/s eta 0:00:01\r\u001b[K     |████████▊                       | 245kB 9.0MB/s eta 0:00:01\r\u001b[K     |█████████                       | 256kB 9.0MB/s eta 0:00:01\r\u001b[K     |█████████▍                      | 266kB 9.0MB/s eta 0:00:01\r\u001b[K     |█████████▉                      | 276kB 9.0MB/s eta 0:00:01\r\u001b[K     |██████████▏                     | 286kB 9.0MB/s eta 0:00:01\r\u001b[K     |██████████▌                     | 296kB 9.0MB/s eta 0:00:01\r\u001b[K     |██████████▉                     | 307kB 9.0MB/s eta 0:00:01\r\u001b[K     |███████████▎                    | 317kB 9.0MB/s eta 0:00:01\r\u001b[K     |███████████▋                    | 327kB 9.0MB/s eta 0:00:01\r\u001b[K     |████████████                    | 337kB 9.0MB/s eta 0:00:01\r\u001b[K     |████████████▎                   | 348kB 9.0MB/s eta 0:00:01\r\u001b[K     |████████████▊                   | 358kB 9.0MB/s eta 0:00:01\r\u001b[K     |█████████████                   | 368kB 9.0MB/s eta 0:00:01\r\u001b[K     |█████████████▍                  | 378kB 9.0MB/s eta 0:00:01\r\u001b[K     |█████████████▊                  | 389kB 9.0MB/s eta 0:00:01\r\u001b[K     |██████████████▏                 | 399kB 9.0MB/s eta 0:00:01\r\u001b[K     |██████████████▌                 | 409kB 9.0MB/s eta 0:00:01\r\u001b[K     |██████████████▉                 | 419kB 9.0MB/s eta 0:00:01\r\u001b[K     |███████████████▏                | 430kB 9.0MB/s eta 0:00:01\r\u001b[K     |███████████████▋                | 440kB 9.0MB/s eta 0:00:01\r\u001b[K     |████████████████                | 450kB 9.0MB/s eta 0:00:01\r\u001b[K     |████████████████▎               | 460kB 9.0MB/s eta 0:00:01\r\u001b[K     |████████████████▋               | 471kB 9.0MB/s eta 0:00:01\r\u001b[K     |█████████████████               | 481kB 9.0MB/s eta 0:00:01\r\u001b[K     |█████████████████▍              | 491kB 9.0MB/s eta 0:00:01\r\u001b[K     |█████████████████▊              | 501kB 9.0MB/s eta 0:00:01\r\u001b[K     |██████████████████▏             | 512kB 9.0MB/s eta 0:00:01\r\u001b[K     |██████████████████▌             | 522kB 9.0MB/s eta 0:00:01\r\u001b[K     |██████████████████▉             | 532kB 9.0MB/s eta 0:00:01\r\u001b[K     |███████████████████▏            | 542kB 9.0MB/s eta 0:00:01\r\u001b[K     |███████████████████▋            | 552kB 9.0MB/s eta 0:00:01\r\u001b[K     |████████████████████            | 563kB 9.0MB/s eta 0:00:01\r\u001b[K     |████████████████████▎           | 573kB 9.0MB/s eta 0:00:01\r\u001b[K     |████████████████████▋           | 583kB 9.0MB/s eta 0:00:01\r\u001b[K     |█████████████████████           | 593kB 9.0MB/s eta 0:00:01\r\u001b[K     |█████████████████████▍          | 604kB 9.0MB/s eta 0:00:01\r\u001b[K     |█████████████████████▊          | 614kB 9.0MB/s eta 0:00:01\r\u001b[K     |██████████████████████          | 624kB 9.0MB/s eta 0:00:01\r\u001b[K     |██████████████████████▌         | 634kB 9.0MB/s eta 0:00:01\r\u001b[K     |██████████████████████▉         | 645kB 9.0MB/s eta 0:00:01\r\u001b[K     |███████████████████████▏        | 655kB 9.0MB/s eta 0:00:01\r\u001b[K     |███████████████████████▌        | 665kB 9.0MB/s eta 0:00:01\r\u001b[K     |████████████████████████        | 675kB 9.0MB/s eta 0:00:01\r\u001b[K     |████████████████████████▎       | 686kB 9.0MB/s eta 0:00:01\r\u001b[K     |████████████████████████▋       | 696kB 9.0MB/s eta 0:00:01\r\u001b[K     |█████████████████████████       | 706kB 9.0MB/s eta 0:00:01\r\u001b[K     |█████████████████████████▍      | 716kB 9.0MB/s eta 0:00:01\r\u001b[K     |█████████████████████████▊      | 727kB 9.0MB/s eta 0:00:01\r\u001b[K     |██████████████████████████      | 737kB 9.0MB/s eta 0:00:01\r\u001b[K     |██████████████████████████▍     | 747kB 9.0MB/s eta 0:00:01\r\u001b[K     |██████████████████████████▉     | 757kB 9.0MB/s eta 0:00:01\r\u001b[K     |███████████████████████████▏    | 768kB 9.0MB/s eta 0:00:01\r\u001b[K     |███████████████████████████▌    | 778kB 9.0MB/s eta 0:00:01\r\u001b[K     |████████████████████████████    | 788kB 9.0MB/s eta 0:00:01\r\u001b[K     |████████████████████████████▎   | 798kB 9.0MB/s eta 0:00:01\r\u001b[K     |████████████████████████████▋   | 808kB 9.0MB/s eta 0:00:01\r\u001b[K     |█████████████████████████████   | 819kB 9.0MB/s eta 0:00:01\r\u001b[K     |█████████████████████████████▍  | 829kB 9.0MB/s eta 0:00:01\r\u001b[K     |█████████████████████████████▊  | 839kB 9.0MB/s eta 0:00:01\r\u001b[K     |██████████████████████████████  | 849kB 9.0MB/s eta 0:00:01\r\u001b[K     |██████████████████████████████▍ | 860kB 9.0MB/s eta 0:00:01\r\u001b[K     |██████████████████████████████▉ | 870kB 9.0MB/s eta 0:00:01\r\u001b[K     |███████████████████████████████▏| 880kB 9.0MB/s eta 0:00:01\r\u001b[K     |███████████████████████████████▌| 890kB 9.0MB/s eta 0:00:01\r\u001b[K     |███████████████████████████████▉| 901kB 9.0MB/s eta 0:00:01\r\u001b[K     |████████████████████████████████| 911kB 9.0MB/s \n",
            "\u001b[?25hRequirement already satisfied: urllib3 in /usr/local/lib/python3.6/dist-packages (from selenium) (1.24.3)\n",
            "Installing collected packages: selenium\n",
            "Successfully installed selenium-3.141.0\n"
          ],
          "name": "stdout"
        }
      ]
    },
    {
      "cell_type": "code",
      "metadata": {
        "id": "GEb3pBGDc4E8",
        "colab_type": "code",
        "colab": {
          "base_uri": "https://localhost:8080/",
          "height": 441
        },
        "outputId": "0b45968f-a80d-4fea-c543-2a216945933c"
      },
      "source": [
        "import time\n",
        "from selenium import webdriver\n",
        "\n",
        "driver = webdriver.Chrome(r'/content/chromedriver.exe')  # Optional argument, if not specified will search path.\n",
        "driver.get('http://www.google.com/');\n",
        "time.sleep(5) # Let the user actually see something!\n",
        "search_box = driver.find_element_by_name('q')\n",
        "search_box.send_keys('ChromeDriver')\n",
        "search_box.submit()\n",
        "time.sleep(5) # Let the user actually see something!\n",
        "driver.quit()"
      ],
      "execution_count": 21,
      "outputs": [
        {
          "output_type": "error",
          "ename": "WebDriverException",
          "evalue": "ignored",
          "traceback": [
            "\u001b[0;31m---------------------------------------------------------------------------\u001b[0m",
            "\u001b[0;31mPermissionError\u001b[0m                           Traceback (most recent call last)",
            "\u001b[0;32m/usr/local/lib/python3.6/dist-packages/selenium/webdriver/common/service.py\u001b[0m in \u001b[0;36mstart\u001b[0;34m(self)\u001b[0m\n\u001b[1;32m     75\u001b[0m                                             \u001b[0mstderr\u001b[0m\u001b[0;34m=\u001b[0m\u001b[0mself\u001b[0m\u001b[0;34m.\u001b[0m\u001b[0mlog_file\u001b[0m\u001b[0;34m,\u001b[0m\u001b[0;34m\u001b[0m\u001b[0;34m\u001b[0m\u001b[0m\n\u001b[0;32m---> 76\u001b[0;31m                                             stdin=PIPE)\n\u001b[0m\u001b[1;32m     77\u001b[0m         \u001b[0;32mexcept\u001b[0m \u001b[0mTypeError\u001b[0m\u001b[0;34m:\u001b[0m\u001b[0;34m\u001b[0m\u001b[0;34m\u001b[0m\u001b[0m\n",
            "\u001b[0;32m/usr/lib/python3.6/subprocess.py\u001b[0m in \u001b[0;36m__init__\u001b[0;34m(self, args, bufsize, executable, stdin, stdout, stderr, preexec_fn, close_fds, shell, cwd, env, universal_newlines, startupinfo, creationflags, restore_signals, start_new_session, pass_fds, encoding, errors)\u001b[0m\n\u001b[1;32m    728\u001b[0m                                 \u001b[0merrread\u001b[0m\u001b[0;34m,\u001b[0m \u001b[0merrwrite\u001b[0m\u001b[0;34m,\u001b[0m\u001b[0;34m\u001b[0m\u001b[0;34m\u001b[0m\u001b[0m\n\u001b[0;32m--> 729\u001b[0;31m                                 restore_signals, start_new_session)\n\u001b[0m\u001b[1;32m    730\u001b[0m         \u001b[0;32mexcept\u001b[0m\u001b[0;34m:\u001b[0m\u001b[0;34m\u001b[0m\u001b[0;34m\u001b[0m\u001b[0m\n",
            "\u001b[0;32m/usr/lib/python3.6/subprocess.py\u001b[0m in \u001b[0;36m_execute_child\u001b[0;34m(self, args, executable, preexec_fn, close_fds, pass_fds, cwd, env, startupinfo, creationflags, shell, p2cread, p2cwrite, c2pread, c2pwrite, errread, errwrite, restore_signals, start_new_session)\u001b[0m\n\u001b[1;32m   1363\u001b[0m                             \u001b[0merr_msg\u001b[0m \u001b[0;34m+=\u001b[0m \u001b[0;34m': '\u001b[0m \u001b[0;34m+\u001b[0m \u001b[0mrepr\u001b[0m\u001b[0;34m(\u001b[0m\u001b[0merr_filename\u001b[0m\u001b[0;34m)\u001b[0m\u001b[0;34m\u001b[0m\u001b[0;34m\u001b[0m\u001b[0m\n\u001b[0;32m-> 1364\u001b[0;31m                     \u001b[0;32mraise\u001b[0m \u001b[0mchild_exception_type\u001b[0m\u001b[0;34m(\u001b[0m\u001b[0merrno_num\u001b[0m\u001b[0;34m,\u001b[0m \u001b[0merr_msg\u001b[0m\u001b[0;34m,\u001b[0m \u001b[0merr_filename\u001b[0m\u001b[0;34m)\u001b[0m\u001b[0;34m\u001b[0m\u001b[0;34m\u001b[0m\u001b[0m\n\u001b[0m\u001b[1;32m   1365\u001b[0m                 \u001b[0;32mraise\u001b[0m \u001b[0mchild_exception_type\u001b[0m\u001b[0;34m(\u001b[0m\u001b[0merr_msg\u001b[0m\u001b[0;34m)\u001b[0m\u001b[0;34m\u001b[0m\u001b[0;34m\u001b[0m\u001b[0m\n",
            "\u001b[0;31mPermissionError\u001b[0m: [Errno 13] Permission denied: '/content/chromedriver.exe'",
            "\nDuring handling of the above exception, another exception occurred:\n",
            "\u001b[0;31mWebDriverException\u001b[0m                        Traceback (most recent call last)",
            "\u001b[0;32m<ipython-input-21-1c962df0f769>\u001b[0m in \u001b[0;36m<module>\u001b[0;34m()\u001b[0m\n\u001b[1;32m      2\u001b[0m \u001b[0;32mfrom\u001b[0m \u001b[0mselenium\u001b[0m \u001b[0;32mimport\u001b[0m \u001b[0mwebdriver\u001b[0m\u001b[0;34m\u001b[0m\u001b[0;34m\u001b[0m\u001b[0m\n\u001b[1;32m      3\u001b[0m \u001b[0;34m\u001b[0m\u001b[0m\n\u001b[0;32m----> 4\u001b[0;31m \u001b[0mdriver\u001b[0m \u001b[0;34m=\u001b[0m \u001b[0mwebdriver\u001b[0m\u001b[0;34m.\u001b[0m\u001b[0mChrome\u001b[0m\u001b[0;34m(\u001b[0m\u001b[0;34mr'/content/chromedriver.exe'\u001b[0m\u001b[0;34m)\u001b[0m  \u001b[0;31m# Optional argument, if not specified will search path.\u001b[0m\u001b[0;34m\u001b[0m\u001b[0;34m\u001b[0m\u001b[0m\n\u001b[0m\u001b[1;32m      5\u001b[0m \u001b[0mdriver\u001b[0m\u001b[0;34m.\u001b[0m\u001b[0mget\u001b[0m\u001b[0;34m(\u001b[0m\u001b[0;34m'http://www.google.com/'\u001b[0m\u001b[0;34m)\u001b[0m\u001b[0;34m;\u001b[0m\u001b[0;34m\u001b[0m\u001b[0;34m\u001b[0m\u001b[0m\n\u001b[1;32m      6\u001b[0m \u001b[0mtime\u001b[0m\u001b[0;34m.\u001b[0m\u001b[0msleep\u001b[0m\u001b[0;34m(\u001b[0m\u001b[0;36m5\u001b[0m\u001b[0;34m)\u001b[0m \u001b[0;31m# Let the user actually see something!\u001b[0m\u001b[0;34m\u001b[0m\u001b[0;34m\u001b[0m\u001b[0m\n",
            "\u001b[0;32m/usr/local/lib/python3.6/dist-packages/selenium/webdriver/chrome/webdriver.py\u001b[0m in \u001b[0;36m__init__\u001b[0;34m(self, executable_path, port, options, service_args, desired_capabilities, service_log_path, chrome_options, keep_alive)\u001b[0m\n\u001b[1;32m     71\u001b[0m             \u001b[0mservice_args\u001b[0m\u001b[0;34m=\u001b[0m\u001b[0mservice_args\u001b[0m\u001b[0;34m,\u001b[0m\u001b[0;34m\u001b[0m\u001b[0;34m\u001b[0m\u001b[0m\n\u001b[1;32m     72\u001b[0m             log_path=service_log_path)\n\u001b[0;32m---> 73\u001b[0;31m         \u001b[0mself\u001b[0m\u001b[0;34m.\u001b[0m\u001b[0mservice\u001b[0m\u001b[0;34m.\u001b[0m\u001b[0mstart\u001b[0m\u001b[0;34m(\u001b[0m\u001b[0;34m)\u001b[0m\u001b[0;34m\u001b[0m\u001b[0;34m\u001b[0m\u001b[0m\n\u001b[0m\u001b[1;32m     74\u001b[0m \u001b[0;34m\u001b[0m\u001b[0m\n\u001b[1;32m     75\u001b[0m         \u001b[0;32mtry\u001b[0m\u001b[0;34m:\u001b[0m\u001b[0;34m\u001b[0m\u001b[0;34m\u001b[0m\u001b[0m\n",
            "\u001b[0;32m/usr/local/lib/python3.6/dist-packages/selenium/webdriver/common/service.py\u001b[0m in \u001b[0;36mstart\u001b[0;34m(self)\u001b[0m\n\u001b[1;32m     86\u001b[0m                 raise WebDriverException(\n\u001b[1;32m     87\u001b[0m                     \"'%s' executable may have wrong permissions. %s\" % (\n\u001b[0;32m---> 88\u001b[0;31m                         os.path.basename(self.path), self.start_error_message)\n\u001b[0m\u001b[1;32m     89\u001b[0m                 )\n\u001b[1;32m     90\u001b[0m             \u001b[0;32melse\u001b[0m\u001b[0;34m:\u001b[0m\u001b[0;34m\u001b[0m\u001b[0;34m\u001b[0m\u001b[0m\n",
            "\u001b[0;31mWebDriverException\u001b[0m: Message: 'chromedriver.exe' executable may have wrong permissions. Please see https://sites.google.com/a/chromium.org/chromedriver/home\n"
          ]
        }
      ]
    },
    {
      "cell_type": "code",
      "metadata": {
        "id": "CRUm41yuokvR",
        "colab_type": "code",
        "colab": {
          "base_uri": "https://localhost:8080/",
          "height": 121
        },
        "outputId": "24935906-9306-46fa-ccff-758131894903"
      },
      "source": [
        "from google.colab import drive\n",
        "drive.mount('/content/drive')"
      ],
      "execution_count": 4,
      "outputs": [
        {
          "output_type": "stream",
          "text": [
            "Go to this URL in a browser: https://accounts.google.com/o/oauth2/auth?client_id=947318989803-6bn6qk8qdgf4n4g3pfee6491hc0brc4i.apps.googleusercontent.com&redirect_uri=urn%3aietf%3awg%3aoauth%3a2.0%3aoob&response_type=code&scope=email%20https%3a%2f%2fwww.googleapis.com%2fauth%2fdocs.test%20https%3a%2f%2fwww.googleapis.com%2fauth%2fdrive%20https%3a%2f%2fwww.googleapis.com%2fauth%2fdrive.photos.readonly%20https%3a%2f%2fwww.googleapis.com%2fauth%2fpeopleapi.readonly\n",
            "\n",
            "Enter your authorization code:\n",
            "··········\n",
            "Mounted at /content/drive\n"
          ],
          "name": "stdout"
        }
      ]
    },
    {
      "cell_type": "code",
      "metadata": {
        "id": "9A-tFkXqqrfb",
        "colab_type": "code",
        "colab": {
          "base_uri": "https://localhost:8080/",
          "height": 289
        },
        "outputId": "4c9df6f6-774f-4922-a243-101461c7eeeb"
      },
      "source": [
        "!pip install webdriver-manager"
      ],
      "execution_count": 11,
      "outputs": [
        {
          "output_type": "stream",
          "text": [
            "Collecting webdriver-manager\n",
            "  Downloading https://files.pythonhosted.org/packages/c2/f6/bd9d73991fd8d1b488aefa4b55711af670e938a9b8549ffd8ecc42780069/webdriver_manager-2.3.0-py2.py3-none-any.whl\n",
            "Collecting configparser\n",
            "  Downloading https://files.pythonhosted.org/packages/7a/2a/95ed0501cf5d8709490b1d3a3f9b5cf340da6c433f896bbe9ce08dbe6785/configparser-4.0.2-py2.py3-none-any.whl\n",
            "Requirement already satisfied: requests in /usr/local/lib/python3.6/dist-packages (from webdriver-manager) (2.21.0)\n",
            "Collecting crayons\n",
            "  Downloading https://files.pythonhosted.org/packages/f8/64/ab71c69db049a5f404f1f2c7627578f4b59aca55e6ad9d939721ce6466dd/crayons-0.3.0-py2.py3-none-any.whl\n",
            "Requirement already satisfied: urllib3<1.25,>=1.21.1 in /usr/local/lib/python3.6/dist-packages (from requests->webdriver-manager) (1.24.3)\n",
            "Requirement already satisfied: chardet<3.1.0,>=3.0.2 in /usr/local/lib/python3.6/dist-packages (from requests->webdriver-manager) (3.0.4)\n",
            "Requirement already satisfied: idna<2.9,>=2.5 in /usr/local/lib/python3.6/dist-packages (from requests->webdriver-manager) (2.8)\n",
            "Requirement already satisfied: certifi>=2017.4.17 in /usr/local/lib/python3.6/dist-packages (from requests->webdriver-manager) (2019.11.28)\n",
            "Collecting colorama\n",
            "  Downloading https://files.pythonhosted.org/packages/c9/dc/45cdef1b4d119eb96316b3117e6d5708a08029992b2fee2c143c7a0a5cc5/colorama-0.4.3-py2.py3-none-any.whl\n",
            "Installing collected packages: configparser, colorama, crayons, webdriver-manager\n",
            "Successfully installed colorama-0.4.3 configparser-4.0.2 crayons-0.3.0 webdriver-manager-2.3.0\n"
          ],
          "name": "stdout"
        }
      ]
    },
    {
      "cell_type": "code",
      "metadata": {
        "id": "4CGBaIdsqrjH",
        "colab_type": "code",
        "colab": {}
      },
      "source": [
        "from webdriver_manager.chrome import ChromeDriverManager"
      ],
      "execution_count": 0,
      "outputs": []
    },
    {
      "cell_type": "code",
      "metadata": {
        "id": "0c0ARARfqrlY",
        "colab_type": "code",
        "colab": {
          "base_uri": "https://localhost:8080/",
          "height": 303
        },
        "outputId": "2fc915b8-3018-4f38-a6ac-fd1718dfd235"
      },
      "source": [
        "ChromeDriverManager().install()"
      ],
      "execution_count": 15,
      "outputs": [
        {
          "output_type": "error",
          "ename": "ValueError",
          "evalue": "ignored",
          "traceback": [
            "\u001b[0;31m---------------------------------------------------------------------------\u001b[0m",
            "\u001b[0;31mValueError\u001b[0m                                Traceback (most recent call last)",
            "\u001b[0;32m<ipython-input-15-fa7a62d3f2a4>\u001b[0m in \u001b[0;36m<module>\u001b[0;34m()\u001b[0m\n\u001b[0;32m----> 1\u001b[0;31m \u001b[0mChromeDriverManager\u001b[0m\u001b[0;34m(\u001b[0m\u001b[0;34m)\u001b[0m\u001b[0;34m.\u001b[0m\u001b[0minstall\u001b[0m\u001b[0;34m(\u001b[0m\u001b[0;34m)\u001b[0m\u001b[0;34m\u001b[0m\u001b[0;34m\u001b[0m\u001b[0m\n\u001b[0m",
            "\u001b[0;32m/usr/local/lib/python3.6/dist-packages/webdriver_manager/chrome.py\u001b[0m in \u001b[0;36minstall\u001b[0;34m(self)\u001b[0m\n\u001b[1;32m     22\u001b[0m \u001b[0;34m\u001b[0m\u001b[0m\n\u001b[1;32m     23\u001b[0m     \u001b[0;32mdef\u001b[0m \u001b[0minstall\u001b[0m\u001b[0;34m(\u001b[0m\u001b[0mself\u001b[0m\u001b[0;34m)\u001b[0m\u001b[0;34m:\u001b[0m\u001b[0;34m\u001b[0m\u001b[0;34m\u001b[0m\u001b[0m\n\u001b[0;32m---> 24\u001b[0;31m         \u001b[0mdriver_path\u001b[0m \u001b[0;34m=\u001b[0m \u001b[0mself\u001b[0m\u001b[0;34m.\u001b[0m\u001b[0mdownload_driver\u001b[0m\u001b[0;34m(\u001b[0m\u001b[0mself\u001b[0m\u001b[0;34m.\u001b[0m\u001b[0mdriver\u001b[0m\u001b[0;34m)\u001b[0m\u001b[0;34m\u001b[0m\u001b[0;34m\u001b[0m\u001b[0m\n\u001b[0m\u001b[1;32m     25\u001b[0m \u001b[0;34m\u001b[0m\u001b[0m\n\u001b[1;32m     26\u001b[0m         \u001b[0mos\u001b[0m\u001b[0;34m.\u001b[0m\u001b[0mchmod\u001b[0m\u001b[0;34m(\u001b[0m\u001b[0mdriver_path\u001b[0m\u001b[0;34m,\u001b[0m \u001b[0;36m0o755\u001b[0m\u001b[0;34m)\u001b[0m\u001b[0;34m\u001b[0m\u001b[0;34m\u001b[0m\u001b[0m\n",
            "\u001b[0;32m/usr/local/lib/python3.6/dist-packages/webdriver_manager/manager.py\u001b[0m in \u001b[0;36mdownload_driver\u001b[0;34m(self, driver)\u001b[0m\n\u001b[1;32m     30\u001b[0m \u001b[0;34m\u001b[0m\u001b[0m\n\u001b[1;32m     31\u001b[0m     \u001b[0;32mdef\u001b[0m \u001b[0mdownload_driver\u001b[0m\u001b[0;34m(\u001b[0m\u001b[0mself\u001b[0m\u001b[0;34m,\u001b[0m \u001b[0mdriver\u001b[0m\u001b[0;34m)\u001b[0m\u001b[0;34m:\u001b[0m\u001b[0;34m\u001b[0m\u001b[0;34m\u001b[0m\u001b[0m\n\u001b[0;32m---> 32\u001b[0;31m         \u001b[0mdriver_version\u001b[0m\u001b[0;34m,\u001b[0m \u001b[0mis_latest\u001b[0m \u001b[0;34m=\u001b[0m \u001b[0mself\u001b[0m\u001b[0;34m.\u001b[0m\u001b[0m__get_version_to_download\u001b[0m\u001b[0;34m(\u001b[0m\u001b[0mdriver\u001b[0m\u001b[0;34m)\u001b[0m\u001b[0;34m\u001b[0m\u001b[0;34m\u001b[0m\u001b[0m\n\u001b[0m\u001b[1;32m     33\u001b[0m \u001b[0;34m\u001b[0m\u001b[0m\n\u001b[1;32m     34\u001b[0m         cached_path = self.driver_cache.find_file_if_exists(driver.get_name(), driver.get_os_type(),\n",
            "\u001b[0;32m/usr/local/lib/python3.6/dist-packages/webdriver_manager/manager.py\u001b[0m in \u001b[0;36m__get_version_to_download\u001b[0;34m(self, driver)\u001b[0m\n\u001b[1;32m     21\u001b[0m \u001b[0;34m\u001b[0m\u001b[0m\n\u001b[1;32m     22\u001b[0m         \u001b[0;32mif\u001b[0m \u001b[0mdriver_version\u001b[0m \u001b[0;34m==\u001b[0m \u001b[0;34m\"latest\"\u001b[0m\u001b[0;34m:\u001b[0m\u001b[0;34m\u001b[0m\u001b[0;34m\u001b[0m\u001b[0m\n\u001b[0;32m---> 23\u001b[0;31m             \u001b[0;32mreturn\u001b[0m \u001b[0mself\u001b[0m\u001b[0;34m.\u001b[0m\u001b[0m__get_latest_driver_version\u001b[0m\u001b[0;34m(\u001b[0m\u001b[0mdriver\u001b[0m\u001b[0;34m)\u001b[0m\u001b[0;34m,\u001b[0m \u001b[0;32mTrue\u001b[0m\u001b[0;34m\u001b[0m\u001b[0;34m\u001b[0m\u001b[0m\n\u001b[0m\u001b[1;32m     24\u001b[0m         \u001b[0;32mreturn\u001b[0m \u001b[0mdriver_version\u001b[0m\u001b[0;34m,\u001b[0m \u001b[0;32mFalse\u001b[0m\u001b[0;34m\u001b[0m\u001b[0;34m\u001b[0m\u001b[0m\n\u001b[1;32m     25\u001b[0m \u001b[0;34m\u001b[0m\u001b[0m\n",
            "\u001b[0;32m/usr/local/lib/python3.6/dist-packages/webdriver_manager/manager.py\u001b[0m in \u001b[0;36m__get_latest_driver_version\u001b[0;34m(self, driver)\u001b[0m\n\u001b[1;32m     15\u001b[0m             \u001b[0;32mreturn\u001b[0m \u001b[0mlatest_cached\u001b[0m\u001b[0;34m\u001b[0m\u001b[0;34m\u001b[0m\u001b[0m\n\u001b[1;32m     16\u001b[0m \u001b[0;34m\u001b[0m\u001b[0m\n\u001b[0;32m---> 17\u001b[0;31m         \u001b[0;32mreturn\u001b[0m \u001b[0mdriver\u001b[0m\u001b[0;34m.\u001b[0m\u001b[0mget_latest_release_version\u001b[0m\u001b[0;34m(\u001b[0m\u001b[0;34m)\u001b[0m\u001b[0;34m\u001b[0m\u001b[0;34m\u001b[0m\u001b[0m\n\u001b[0m\u001b[1;32m     18\u001b[0m \u001b[0;34m\u001b[0m\u001b[0m\n\u001b[1;32m     19\u001b[0m     \u001b[0;32mdef\u001b[0m \u001b[0m__get_version_to_download\u001b[0m\u001b[0;34m(\u001b[0m\u001b[0mself\u001b[0m\u001b[0;34m,\u001b[0m \u001b[0mdriver\u001b[0m\u001b[0;34m)\u001b[0m\u001b[0;34m:\u001b[0m\u001b[0;34m\u001b[0m\u001b[0;34m\u001b[0m\u001b[0m\n",
            "\u001b[0;32m/usr/local/lib/python3.6/dist-packages/webdriver_manager/driver.py\u001b[0m in \u001b[0;36mget_latest_release_version\u001b[0;34m(self)\u001b[0m\n\u001b[1;32m     52\u001b[0m     \u001b[0;32mdef\u001b[0m \u001b[0mget_latest_release_version\u001b[0m\u001b[0;34m(\u001b[0m\u001b[0mself\u001b[0m\u001b[0;34m)\u001b[0m\u001b[0;34m:\u001b[0m\u001b[0;34m\u001b[0m\u001b[0;34m\u001b[0m\u001b[0m\n\u001b[1;32m     53\u001b[0m         resp = requests.get(\n\u001b[0;32m---> 54\u001b[0;31m             self._latest_release_url + '_' + chrome_version())\n\u001b[0m\u001b[1;32m     55\u001b[0m         \u001b[0mvalidate_response\u001b[0m\u001b[0;34m(\u001b[0m\u001b[0mresp\u001b[0m\u001b[0;34m)\u001b[0m\u001b[0;34m\u001b[0m\u001b[0;34m\u001b[0m\u001b[0m\n\u001b[1;32m     56\u001b[0m         \u001b[0;32mreturn\u001b[0m \u001b[0mresp\u001b[0m\u001b[0;34m.\u001b[0m\u001b[0mtext\u001b[0m\u001b[0;34m.\u001b[0m\u001b[0mrstrip\u001b[0m\u001b[0;34m(\u001b[0m\u001b[0;34m)\u001b[0m\u001b[0;34m\u001b[0m\u001b[0;34m\u001b[0m\u001b[0m\n",
            "\u001b[0;32m/usr/local/lib/python3.6/dist-packages/webdriver_manager/utils.py\u001b[0m in \u001b[0;36mchrome_version\u001b[0;34m()\u001b[0m\n\u001b[1;32m     96\u001b[0m         raise ValueError(\n\u001b[1;32m     97\u001b[0m             \u001b[0;34m'Could not get version for Chrome with this command: {}'\u001b[0m\u001b[0;34m\u001b[0m\u001b[0;34m\u001b[0m\u001b[0m\n\u001b[0;32m---> 98\u001b[0;31m             \u001b[0;34m.\u001b[0m\u001b[0mformat\u001b[0m\u001b[0;34m(\u001b[0m\u001b[0mcmd\u001b[0m\u001b[0;34m)\u001b[0m\u001b[0;34m\u001b[0m\u001b[0;34m\u001b[0m\u001b[0m\n\u001b[0m\u001b[1;32m     99\u001b[0m         )\n\u001b[1;32m    100\u001b[0m     \u001b[0;32mreturn\u001b[0m \u001b[0mversion\u001b[0m\u001b[0;34m.\u001b[0m\u001b[0mgroup\u001b[0m\u001b[0;34m(\u001b[0m\u001b[0;36m0\u001b[0m\u001b[0;34m)\u001b[0m\u001b[0;34m\u001b[0m\u001b[0;34m\u001b[0m\u001b[0m\n",
            "\u001b[0;31mValueError\u001b[0m: Could not get version for Chrome with this command: google-chrome --version"
          ]
        }
      ]
    },
    {
      "cell_type": "code",
      "metadata": {
        "id": "cEU51nMGrSpE",
        "colab_type": "code",
        "colab": {}
      },
      "source": [
        ""
      ],
      "execution_count": 0,
      "outputs": []
    }
  ]
}